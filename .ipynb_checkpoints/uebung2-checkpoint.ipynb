{
 "cells": [
  {
   "cell_type": "markdown",
   "metadata": {},
   "source": [
    "# 2.1 Vergleich der Stromgestehungskosten konventioneller Erzeugungsanlagen"
   ]
  },
  {
   "cell_type": "markdown",
   "metadata": {},
   "source": [
    "Heizwert:\n",
    "    - Steinkohle: 7.8kWh/kg\n",
    "    - Erdgas: 10kWh/m^3\n",
    "    - Biomasse: 5kWh/kg\n",
    "    \n",
    "Brennstoffkosten:\n",
    "    - Steinkohle: 0.1€/kg\n",
    "    - Erdgas: 0.3€/m^3\n",
    "    - Biomasse: 0.25€/kg\n",
    "CO2 Zertifikatskosten: 10€/t CO2\n",
    "Kalkulationszinsatz = 4%"
   ]
  },
  {
   "cell_type": "code",
   "execution_count": 25,
   "metadata": {},
   "outputs": [],
   "source": [
    "Kalkulationszinsatz = 0.04\n",
    "q = 1 + Kalkulationszinsatz\n",
    "CO2_zertifikat = 10\n",
    "def Kostenrechner(K_investition, K_fix, K_variabel, etha, laufzeit, volllast, emission, heizwert, preis):\n",
    "    # Annuitätenfaktor:\n",
    "    alpha = q**laufzeit*Kalkulationszinsatz / (q**laufzeit - 1)\n",
    "\n",
    "    # jährliche Kapitalskosten Kohle:\n",
    "    Cc = alpha*K_investition/volllast  # €/MWh\n",
    "\n",
    "    # jährliche Fixkosten:\n",
    "    C_fix = Cc/laufzeit + K_fix/volllast       # €/MWh/a \n",
    "\n",
    "    # Brennstoffkosten:\n",
    "    # if Abfrage wegen wasserkraft (verhindert division durch 0):\n",
    "    if heizwert == 0:\n",
    "        C_fuel = 0\n",
    "    else:\n",
    "        Brennstoffpreis = preis_kohle / heizwert * 1000  # €/MWh/a\n",
    "        C_fuel = Brennstoffpreis / etha  # €/MWh/a\n",
    "\n",
    "    # Emmisionskosten:\n",
    "    C_co2 = emission * CO2_zertifikat / etha     # €/MWh/a\n",
    "\n",
    "    # Variable kosten:\n",
    "    C_var = K_variabel  # €/MWh/a\n",
    "\n",
    "    # totale jährliche Kosten:\n",
    "    C = (C_fix + C_fuel + C_co2 + C_var)\n",
    "    return C  "
   ]
  },
  {
   "cell_type": "code",
   "execution_count": 26,
   "metadata": {},
   "outputs": [
    {
     "name": "stdout",
     "output_type": "stream",
     "text": [
      "Jährliche Stromgestehungskosten Kohlekraft in €/MWh: 53.121734401398164\n",
      "Jährliche Stromgestehungskosten GuD in €/MWh: 33.749576102851144\n",
      "Jährliche Stromgestehungskosten GT in €/MWh: 32.439360671375645\n",
      "Jährliche Stromgestehungskosten Biomasse in €/MWh: 77.11700998199399\n",
      "Jährliche Stromgestehungskosten Wasserkraft in €/MWh: 3.0315863400764567\n"
     ]
    }
   ],
   "source": [
    "# Kohlekraftwertk:\n",
    "K_investition_kohle = 1950000 # €/MW\n",
    "K_fix_kohle = 57200           # €/MW/a\n",
    "K_variabel_kohle = 2          # €/MWhel\n",
    "etha_kohle = 0.38             # %\n",
    "laufzeit_kohle = 40           # a\n",
    "volllast_kohle = 7300         # h/a\n",
    "emission_kohle = 0.35         # tCO2/MWhprim\n",
    "heizwert_kohle = 7.8          # kWh/kg\n",
    "preis_kohle = 0.1             # €/kg\n",
    "C_kohle = Kostenrechner(K_investition_kohle, K_fix_kohle, K_variabel_kohle, etha_kohle, laufzeit_kohle, \n",
    "                        volllast_kohle, emission_kohle, heizwert_kohle, preis_kohle)\n",
    "print(\"Jährliche Stromgestehungskosten Kohlekraft in €/MWh: \" + str(C_kohle))\n",
    "\n",
    "# GuD:\n",
    "K_investition_GuD = 870000  # €/MW\n",
    "K_fix_GuD = 32000           # €/MW/a\n",
    "K_variabel_GuD = 2.3        # €/MWhel\n",
    "etha_GuD = 0.59             # %\n",
    "laufzeit_GuD = 35           # a\n",
    "volllast_GuD = 3000         # h/a\n",
    "emission_GuD = 0.2          # tCO2/MWhprim\n",
    "heizwert_GuD = 10           # kWh/m^3\n",
    "preis_GuD = 0.3             # €/m^3\n",
    "\n",
    "C_GuD = Kostenrechner(K_investition_GuD, K_fix_GuD, K_variabel_GuD, etha_GuD, laufzeit_GuD, \n",
    "                        volllast_GuD, emission_GuD, heizwert_GuD, preis_GuD)\n",
    "print(\"Jährliche Stromgestehungskosten GuD in €/MWh: \" + str(C_GuD))\n",
    "\n",
    "# GT:\n",
    "K_investition_GT = 600000  # €/MW\n",
    "K_fix_GT = 0               # €/MW/a\n",
    "K_variabel_GT = 2.4        # €/MWhel\n",
    "etha_GT = 0.41             # %\n",
    "laufzeit_GT = 30           # a\n",
    "volllast_GT = 1500         # h/a\n",
    "emission_GT = 0.2          # tCO2/MWhprim\n",
    "heizwert_GT = 10           # kWh/m^3\n",
    "preis_GT = 0.3             # €/m^3\n",
    "\n",
    "C_GT = Kostenrechner(K_investition_GT, K_fix_GT, K_variabel_GT, etha_GT, laufzeit_GT, \n",
    "                        volllast_GT, emission_GT, heizwert_GT, preis_GT)\n",
    "print(\"Jährliche Stromgestehungskosten GT in €/MWh: \" + str(C_GT))\n",
    "\n",
    "\n",
    "# Biomasse:\n",
    "K_investition_Biomasse = 2600000 # €/MW\n",
    "K_fix_Biomasse = 29000           # €/MW/a\n",
    "K_variabel_Biomasse = 3.9        # €/MWhel\n",
    "etha_Biomasse = 0.29             # %\n",
    "laufzeit_Biomasse = 30           # a\n",
    "volllast_Biomasse = 8000         # h/a\n",
    "emission_Biomasse = 0            # tCO2/MWhprim\n",
    "heizwert_Biomasse = 5            # kWh/kg\n",
    "preis_Biomasse = 0.25            # €/kg\n",
    "\n",
    "C_Biomasse = Kostenrechner(K_investition_Biomasse, K_fix_Biomasse, K_variabel_Biomasse, etha_Biomasse, \n",
    "                           laufzeit_Biomasse, volllast_Biomasse, emission_Biomasse, heizwert_Biomasse, \n",
    "                           preis_Biomasse)\n",
    "print(\"Jährliche Stromgestehungskosten Biomasse in €/MWh: \" + str(C_Biomasse))\n",
    "\n",
    "# Wasserkraft:\n",
    "K_investition_Wasserkraft = 4500000 # €/MW\n",
    "K_fix_Wasserkraft = 14000           # €/MW/a\n",
    "K_variabel_Wasserkraft = 0          # €/MWhel\n",
    "etha_Wasserkraft = 1                # %\n",
    "laufzeit_Wasserkraft = 50           # a\n",
    "volllast_Wasserkraft = 6000         # h/a\n",
    "emission_Wasserkraft = 0            # tCO2/MWhprim\n",
    "heizwert_Wasserkraft = 0            # kWh/kg\n",
    "preis_Wasserkraft = 0               # €/kg\n",
    "\n",
    "C_Wasserkraft = Kostenrechner(K_investition_Wasserkraft, K_fix_Wasserkraft, K_variabel_Wasserkraft, etha_Wasserkraft, \n",
    "                           laufzeit_Wasserkraft, volllast_Wasserkraft, emission_Wasserkraft, heizwert_Wasserkraft, \n",
    "                           preis_Wasserkraft)\n",
    "print(\"Jährliche Stromgestehungskosten Wasserkraft in €/MWh: \" + str(C_Wasserkraft))"
   ]
  },
  {
   "cell_type": "code",
   "execution_count": null,
   "metadata": {},
   "outputs": [],
   "source": []
  },
  {
   "cell_type": "code",
   "execution_count": null,
   "metadata": {},
   "outputs": [],
   "source": []
  }
 ],
 "metadata": {
  "kernelspec": {
   "display_name": "Python 3",
   "language": "python",
   "name": "python3"
  },
  "language_info": {
   "codemirror_mode": {
    "name": "ipython",
    "version": 3
   },
   "file_extension": ".py",
   "mimetype": "text/x-python",
   "name": "python",
   "nbconvert_exporter": "python",
   "pygments_lexer": "ipython3",
   "version": "3.8.3"
  }
 },
 "nbformat": 4,
 "nbformat_minor": 4
}
